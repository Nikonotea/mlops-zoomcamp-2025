{
  "nbformat": 4,
  "nbformat_minor": 0,
  "metadata": {
    "colab": {
      "provenance": [],
      "authorship_tag": "ABX9TyOBO+eA6ny6ROBwIx8qq3V5"
    },
    "kernelspec": {
      "name": "python3",
      "display_name": "Python 3"
    },
    "language_info": {
      "name": "python"
    }
  },
  "cells": [
    {
      "cell_type": "markdown",
      "source": [
        "# Homework 01"
      ],
      "metadata": {
        "id": "sFgDphrGJ6Vn"
      }
    },
    {
      "cell_type": "code",
      "execution_count": 1,
      "metadata": {
        "id": "zlbgiIfTBHOA",
        "outputId": "71856f88-70b3-40db-aceb-bfae45f8ddf2",
        "colab": {
          "base_uri": "https://localhost:8080/"
        }
      },
      "outputs": [
        {
          "output_type": "stream",
          "name": "stdout",
          "text": [
            "Python 3.11.12\n"
          ]
        }
      ],
      "source": [
        "!python -V"
      ]
    },
    {
      "cell_type": "code",
      "source": [
        "import pandas as pd\n",
        "from sklearn.feature_extraction import DictVectorizer\n",
        "from sklearn.linear_model import LinearRegression\n",
        "from sklearn.metrics import mean_squared_error"
      ],
      "metadata": {
        "id": "wNf_bfRLJm2y"
      },
      "execution_count": 2,
      "outputs": []
    },
    {
      "cell_type": "markdown",
      "source": [
        "### Q1. Downloading the data\n",
        "\n",
        "We'll use [the same NYC taxi dataset](https://www1.nyc.gov/site/tlc/about/tlc-trip-record-data.page),\n",
        "but instead of \"**Green** Taxi Trip Records\", we'll use \"**Yellow** Taxi Trip Records\".\n",
        "\n",
        "Download the data for January and February 2023.\n",
        "\n",
        "Read the data for January. How many columns are there?\n",
        "\n",
        "* 16\n",
        "* 17\n",
        "* 18\n",
        "* 19"
      ],
      "metadata": {
        "id": "ecZ1SNHlMAGU"
      }
    },
    {
      "cell_type": "code",
      "source": [
        "# Download the data\n",
        "january_data = pd.read_parquet('https://d37ci6vzurychx.cloudfront.net/trip-data/yellow_tripdata_2023-01.parquet')\n",
        "february_data = pd.read_parquet('https://d37ci6vzurychx.cloudfront.net/trip-data/yellow_tripdata_2023-02.parquet')"
      ],
      "metadata": {
        "id": "aFjk4U-2MRm8"
      },
      "execution_count": 3,
      "outputs": []
    },
    {
      "cell_type": "code",
      "source": [
        "# Number of columns for January data\n",
        "print(f\"There are {len(january_data.columns)} columns in January data.\")"
      ],
      "metadata": {
        "id": "D6C2u9KSMqk5",
        "outputId": "fc905150-65fc-4cbf-e930-b622815c8e80",
        "colab": {
          "base_uri": "https://localhost:8080/"
        }
      },
      "execution_count": 5,
      "outputs": [
        {
          "output_type": "stream",
          "name": "stdout",
          "text": [
            "There are 19 columns in January data.\n"
          ]
        }
      ]
    },
    {
      "cell_type": "markdown",
      "source": [
        "### Q2. Computing duration\n",
        "\n",
        "Now let's compute the `duration` variable. It should contain the duration of a ride in minutes.\n",
        "\n",
        "What's the standard deviation of the trips duration in January?\n",
        "\n",
        "* 32.59\n",
        "* 42.59\n",
        "* 52.59\n",
        "* 62.59"
      ],
      "metadata": {
        "id": "zkP6zVLbNtXq"
      }
    },
    {
      "cell_type": "code",
      "source": [
        "january_data['duration'] = january_data.tpep_dropoff_datetime - january_data.tpep_pickup_datetime\n",
        "january_data.duration = january_data.duration.apply(lambda td: td.total_seconds() / 60)\n",
        "january_duration = round(january_data.duration.std(), 2)\n",
        "print(f\"The standard deviation of the trips duration in January {january_duration}\")"
      ],
      "metadata": {
        "id": "vgp8AE8INurK",
        "outputId": "bfb97fd2-00ca-42f7-e2ff-c543f09082c5",
        "colab": {
          "base_uri": "https://localhost:8080/"
        }
      },
      "execution_count": 8,
      "outputs": [
        {
          "output_type": "stream",
          "name": "stdout",
          "text": [
            "The standard deviation of the trips duration in January 42.59\n"
          ]
        }
      ]
    },
    {
      "cell_type": "markdown",
      "source": [
        "### Q3. Dropping outliers\n",
        "\n",
        "Next, we need to check the distribution of the `duration` variable. There are some outliers. Let's remove them and keep only the records where the duration was between 1 and 60 minutes (inclusive).\n",
        "\n",
        "What fraction of the records left after you dropped the outliers?\n",
        "\n",
        "* 90%\n",
        "* 92%\n",
        "* 95%\n",
        "* 98%"
      ],
      "metadata": {
        "id": "e1bui1GxPreb"
      }
    },
    {
      "cell_type": "code",
      "source": [
        "january_data_clean = january_data[(january_data.duration >= 1) & (january_data.duration <= 60)]\n",
        "records_after_drop = round(january_data_clean.shape[0] * 100 / january_data.shape[0])\n",
        "print(f\"Fraction of the records left after we dropped the outliers is {records_after_drop}\")"
      ],
      "metadata": {
        "id": "kZAIerXXPtcg",
        "outputId": "2c6b07cc-9241-48a3-b707-af6f5c166ca0",
        "colab": {
          "base_uri": "https://localhost:8080/"
        }
      },
      "execution_count": 13,
      "outputs": [
        {
          "output_type": "stream",
          "name": "stdout",
          "text": [
            "Fraction of the records left after we dropped the outliers is 98\n"
          ]
        }
      ]
    },
    {
      "cell_type": "markdown",
      "source": [
        "### Q4. One-hot encoding\n",
        "\n",
        "Let's apply one-hot encoding to the pickup and dropoff location IDs. We'll use only these two features for our model.\n",
        "\n",
        "* Turn the dataframe into a list of dictionaries (remember to re-cast the ids to strings - otherwise it will\n",
        "  label encode them)\n",
        "* Fit a dictionary vectorizer\n",
        "* Get a feature matrix from it\n",
        "\n",
        "What's the dimensionality of this matrix (number of columns)?\n",
        "\n",
        "* 2\n",
        "* 155\n",
        "* 345\n",
        "* 515\n",
        "* 715"
      ],
      "metadata": {
        "id": "BlUomcBhR860"
      }
    },
    {
      "cell_type": "code",
      "source": [],
      "metadata": {
        "id": "l_U8dkdVRkf-"
      },
      "execution_count": null,
      "outputs": []
    }
  ]
}