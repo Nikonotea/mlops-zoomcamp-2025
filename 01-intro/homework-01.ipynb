{
  "nbformat": 4,
  "nbformat_minor": 0,
  "metadata": {
    "colab": {
      "provenance": [],
      "authorship_tag": "ABX9TyNzaN+V2wOfvfbBZNUj3qV+"
    },
    "kernelspec": {
      "name": "python3",
      "display_name": "Python 3"
    },
    "language_info": {
      "name": "python"
    }
  },
  "cells": [
    {
      "cell_type": "markdown",
      "source": [
        "# Homework 01"
      ],
      "metadata": {
        "id": "sFgDphrGJ6Vn"
      }
    },
    {
      "cell_type": "code",
      "execution_count": 1,
      "metadata": {
        "id": "zlbgiIfTBHOA",
        "colab": {
          "base_uri": "https://localhost:8080/"
        },
        "outputId": "71856f88-70b3-40db-aceb-bfae45f8ddf2"
      },
      "outputs": [
        {
          "output_type": "stream",
          "name": "stdout",
          "text": [
            "Python 3.11.12\n"
          ]
        }
      ],
      "source": [
        "!python -V"
      ]
    },
    {
      "cell_type": "code",
      "source": [
        "import pandas as pd\n",
        "import numpy as np\n",
        "from sklearn.feature_extraction import DictVectorizer\n",
        "from sklearn.linear_model import LinearRegression\n",
        "from sklearn.metrics import root_mean_squared_error"
      ],
      "metadata": {
        "id": "wNf_bfRLJm2y"
      },
      "execution_count": 16,
      "outputs": []
    },
    {
      "cell_type": "markdown",
      "source": [
        "### Q1. Downloading the data\n",
        "\n",
        "We'll use [the same NYC taxi dataset](https://www1.nyc.gov/site/tlc/about/tlc-trip-record-data.page),\n",
        "but instead of \"**Green** Taxi Trip Records\", we'll use \"**Yellow** Taxi Trip Records\".\n",
        "\n",
        "Download the data for January and February 2023.\n",
        "\n",
        "Read the data for January. How many columns are there?\n",
        "\n",
        "* 16\n",
        "* 17\n",
        "* 18\n",
        "* 19"
      ],
      "metadata": {
        "id": "ecZ1SNHlMAGU"
      }
    },
    {
      "cell_type": "code",
      "source": [
        "# Download the data\n",
        "january_data = pd.read_parquet('https://d37ci6vzurychx.cloudfront.net/trip-data/yellow_tripdata_2023-01.parquet')\n",
        "february_data = pd.read_parquet('https://d37ci6vzurychx.cloudfront.net/trip-data/yellow_tripdata_2023-02.parquet')"
      ],
      "metadata": {
        "id": "aFjk4U-2MRm8"
      },
      "execution_count": 2,
      "outputs": []
    },
    {
      "cell_type": "code",
      "source": [
        "# Number of columns for January data\n",
        "print(f\"There are {len(january_data.columns)} columns in January data.\")"
      ],
      "metadata": {
        "colab": {
          "base_uri": "https://localhost:8080/"
        },
        "id": "D6C2u9KSMqk5",
        "outputId": "bef9b1a0-97eb-4ecd-d583-929da8f895c6"
      },
      "execution_count": 4,
      "outputs": [
        {
          "output_type": "stream",
          "name": "stdout",
          "text": [
            "There are 20 columns in January data.\n"
          ]
        }
      ]
    },
    {
      "cell_type": "markdown",
      "source": [
        "### Q2. Computing duration\n",
        "\n",
        "Now let's compute the `duration` variable. It should contain the duration of a ride in minutes.\n",
        "\n",
        "What's the standard deviation of the trips duration in January?\n",
        "\n",
        "* 32.59\n",
        "* 42.59\n",
        "* 52.59\n",
        "* 62.59"
      ],
      "metadata": {
        "id": "zkP6zVLbNtXq"
      }
    },
    {
      "cell_type": "code",
      "source": [
        "january_data['duration'] = january_data.tpep_dropoff_datetime - january_data.tpep_pickup_datetime\n",
        "january_data.duration = january_data.duration.apply(lambda td: td.total_seconds() / 60)\n",
        "january_duration = round(january_data.duration.std(), 2)\n",
        "print(f\"The standard deviation of the trips duration in January {january_duration}\")"
      ],
      "metadata": {
        "colab": {
          "base_uri": "https://localhost:8080/"
        },
        "id": "vgp8AE8INurK",
        "outputId": "e2f587db-f013-4c23-c695-20778542a85c"
      },
      "execution_count": 3,
      "outputs": [
        {
          "output_type": "stream",
          "name": "stdout",
          "text": [
            "The standard deviation of the trips duration in January 42.59\n"
          ]
        }
      ]
    },
    {
      "cell_type": "markdown",
      "source": [
        "### Q3. Dropping outliers\n",
        "\n",
        "Next, we need to check the distribution of the `duration` variable. There are some outliers. Let's remove them and keep only the records where the duration was between 1 and 60 minutes (inclusive).\n",
        "\n",
        "What fraction of the records left after you dropped the outliers?\n",
        "\n",
        "* 90%\n",
        "* 92%\n",
        "* 95%\n",
        "* 98%"
      ],
      "metadata": {
        "id": "e1bui1GxPreb"
      }
    },
    {
      "cell_type": "code",
      "source": [
        "january_data_clean = january_data[(january_data.duration >= 1) & (january_data.duration <= 60)]\n",
        "records_after_drop = round(january_data_clean.shape[0] * 100 / january_data.shape[0])\n",
        "print(f\"Fraction of the records left after we dropped the outliers is {records_after_drop}\")"
      ],
      "metadata": {
        "colab": {
          "base_uri": "https://localhost:8080/"
        },
        "id": "kZAIerXXPtcg",
        "outputId": "035eba19-909c-4dbd-d912-e1d31bd6382c"
      },
      "execution_count": 5,
      "outputs": [
        {
          "output_type": "stream",
          "name": "stdout",
          "text": [
            "Fraction of the records left after we dropped the outliers is 98\n"
          ]
        }
      ]
    },
    {
      "cell_type": "markdown",
      "source": [
        "### Q4. One-hot encoding\n",
        "\n",
        "Let's apply one-hot encoding to the pickup and dropoff location IDs. We'll use only these two features for our model.\n",
        "\n",
        "* Turn the dataframe into a list of dictionaries (remember to re-cast the ids to strings - otherwise it will\n",
        "  label encode them)\n",
        "* Fit a dictionary vectorizer\n",
        "* Get a feature matrix from it\n",
        "\n",
        "What's the dimensionality of this matrix (number of columns)?\n",
        "\n",
        "* 2\n",
        "* 155\n",
        "* 345\n",
        "* 515\n",
        "* 715"
      ],
      "metadata": {
        "id": "BlUomcBhR860"
      }
    },
    {
      "cell_type": "code",
      "source": [
        "categorical = ['PULocationID', 'DOLocationID']\n",
        "train_dicts = january_data_clean[categorical].to_dict(orient='records')\n",
        "\n",
        "dv = DictVectorizer()\n",
        "x_train = dv.fit_transform(train_dicts)\n",
        "print(f\"The dimensionality of the matrix is {x_train.shape[1]}\")"
      ],
      "metadata": {
        "colab": {
          "base_uri": "https://localhost:8080/"
        },
        "id": "l_U8dkdVRkf-",
        "outputId": "fcad0ef1-5fac-448a-b5a0-da37afa41ccc"
      },
      "execution_count": 11,
      "outputs": [
        {
          "output_type": "stream",
          "name": "stdout",
          "text": [
            "The dimensionality of the matrix is 515\n"
          ]
        }
      ]
    },
    {
      "cell_type": "markdown",
      "source": [
        "### Q5. Training a model\n",
        "\n",
        "Now let's use the feature matrix from the previous step to train a model.\n",
        "\n",
        "* Train a plain linear regression model with default parameters, where duration is the response variable\n",
        "* Calculate the RMSE of the model on the training data\n",
        "\n",
        "What's the RMSE on train?\n",
        "\n",
        "* 3.64\n",
        "* 7.64\n",
        "* 11.64\n",
        "* 16.64"
      ],
      "metadata": {
        "id": "EzxzwDjIajcK"
      }
    },
    {
      "cell_type": "code",
      "source": [
        "y_train = january_data_clean['duration'].values\n",
        "lin_reg = LinearRegression()\n",
        "lin_reg.fit(x_train, y_train)\n",
        "y_predict = lin_reg.predict(x_train)\n",
        "mse = mean_squared_error(y_train, y_predict)\n",
        "rmse = round(np.sqrt(mse), 3)\n",
        "print(f\"RMSE on train is: {rmse}\")"
      ],
      "metadata": {
        "id": "4C53YeUoanx_",
        "outputId": "0de91d66-11ce-493a-b806-ef5201019132",
        "colab": {
          "base_uri": "https://localhost:8080/"
        }
      },
      "execution_count": 33,
      "outputs": [
        {
          "output_type": "stream",
          "name": "stdout",
          "text": [
            "RMSE on train is: 7.649\n"
          ]
        }
      ]
    },
    {
      "cell_type": "markdown",
      "source": [
        "### Q6. Evaluating the model\n",
        "\n",
        "Now let's apply this model to the validation dataset (February 2023).\n",
        "\n",
        "What's the RMSE on validation?\n",
        "\n",
        "* 3.81\n",
        "* 7.81\n",
        "* 11.81\n",
        "* 16.81"
      ],
      "metadata": {
        "id": "cxHjcYGObmiC"
      }
    },
    {
      "cell_type": "code",
      "source": [
        "y_train = january_data_clean['duration'].values\n",
        "lin_reg = LinearRegression()\n",
        "lin_reg.fit(x_train, y_train)\n",
        "\n",
        "y_pred_train = lin_reg.predict(x_train)\n",
        "rmse_train = round(root_mean_squared_error(y_train, y_pred_train), 3)\n",
        "print(f\"RMSE on train is: {rmse_train}\")\n",
        "\n",
        "february_data['duration'] = february_data.tpep_dropoff_datetime - february_data.tpep_pickup_datetime\n",
        "february_data['duration'] = february_data['duration'].apply(lambda td: td.total_seconds() / 60)\n",
        "\n",
        "february_data_clean = february_data[(february_data.duration >= 1) & (february_data.duration <= 60)]\n",
        "\n",
        "val_dicts = february_data_clean[categorical].astype(str).to_dict(orient='records')\n",
        "x_val = dv.transform(val_dicts)\n",
        "y_val = february_data_clean['duration'].values\n",
        "\n",
        "y_pred_val = lin_reg.predict(x_val)\n",
        "rmse_val = round(root_mean_squared_error(y_val, y_pred_val), 2)\n",
        "print(f\"RMSE on validation is: {rmse_val}\")"
      ],
      "metadata": {
        "id": "1nTxSJaKcNJn",
        "outputId": "8d2aca86-b40c-4807-b71a-e6a57002a482",
        "colab": {
          "base_uri": "https://localhost:8080/"
        }
      },
      "execution_count": 34,
      "outputs": [
        {
          "output_type": "stream",
          "name": "stdout",
          "text": [
            "RMSE on train is: 7.649\n",
            "RMSE on validation is: 7.81\n"
          ]
        }
      ]
    }
  ]
}